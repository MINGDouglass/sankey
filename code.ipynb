{
 "cells": [
  {
   "cell_type": "markdown",
   "id": "4c6229a9",
   "metadata": {},
   "source": [
    "### 2. 随机颜色（不考虑流动类型）"
   ]
  },
  {
   "cell_type": "code",
   "execution_count": 5,
   "id": "ce45f641",
   "metadata": {},
   "outputs": [
    {
     "name": "stdout",
     "output_type": "stream",
     "text": [
      "已生成 ./my_sankey.html\n"
     ]
    },
    {
     "data": {
      "application/vnd.plotly.v1+json": {
       "config": {
        "plotlyServerURL": "https://plot.ly"
       },
       "data": [
        {
         "link": {
          "color": [
           "rgba(160,185,202,0.825)",
           "rgba(252,130,23,0.825)",
           "rgba(230,173,122,0.825)",
           "rgba(235,164,102,0.825)",
           "rgba(125,167,196,0.825)",
           "rgba(146,178,199,0.825)",
           "rgba(69,138,186,0.825)",
           "rgba(247,141,47,0.825)",
           "rgba(217,198,180,0.825)",
           "rgba(252,131,24,0.825)",
           "rgba(236,163,98,0.825)",
           "rgba(208,209,210,0.825)",
           "rgba(252,130,23,0.825)",
           "rgba(237,159,91,0.825)",
           "rgba(156,183,201,0.825)",
           "rgba(194,202,208,0.825)",
           "rgba(235,163,100,0.825)",
           "rgba(179,194,205,0.825)",
           "rgba(98,153,191,0.825)",
           "rgba(254,127,15,0.825)",
           "rgba(100,154,191,0.825)",
           "rgba(139,174,198,0.825)",
           "rgba(224,184,148,0.825)",
           "rgba(241,152,74,0.825)",
           "rgba(45,126,182,0.825)",
           "rgba(225,183,146,0.825)",
           "rgba(247,142,49,0.825)",
           "rgba(246,142,51,0.825)",
           "rgba(86,147,189,0.825)",
           "rgba(173,191,204,0.825)",
           "rgba(100,154,191,0.825)",
           "rgba(128,168,196,0.825)",
           "rgba(197,204,208,0.825)",
           "rgba(39,123,181,0.825)",
           "rgba(221,190,162,0.825)",
           "rgba(191,201,207,0.825)",
           "rgba(91,150,190,0.825)",
           "rgba(167,188,203,0.825)",
           "rgba(80,144,188,0.825)",
           "rgba(183,196,206,0.825)",
           "rgba(136,173,198,0.825)",
           "rgba(251,134,30,0.825)",
           "rgba(234,165,103,0.825)",
           "rgba(229,175,128,0.825)",
           "rgba(248,140,44,0.825)",
           "rgba(234,165,105,0.825)",
           "rgba(246,143,52,0.825)",
           "rgba(230,173,123,0.825)",
           "rgba(162,186,202,0.825)",
           "rgba(222,188,157,0.825)",
           "rgba(222,188,159,0.825)",
           "rgba(236,161,95,0.825)",
           "rgba(231,171,119,0.825)",
           "rgba(53,130,183,0.825)",
           "rgba(158,183,201,0.825)",
           "rgba(172,191,204,0.825)",
           "rgba(240,155,80,0.825)",
           "rgba(128,168,196,0.825)",
           "rgba(240,154,77,0.825)",
           "rgba(221,190,163,0.825)",
           "rgba(33,120,180,0.825)",
           "rgba(160,185,202,0.825)",
           "rgba(190,200,207,0.825)",
           "rgba(143,176,199,0.825)",
           "rgba(87,147,189,0.825)",
           "rgba(111,160,193,0.825)",
           "rgba(234,165,103,0.825)",
           "rgba(252,132,26,0.825)",
           "rgba(227,179,137,0.825)",
           "rgba(231,171,119,0.825)",
           "rgba(236,162,97,0.825)",
           "rgba(50,129,183,0.825)",
           "rgba(74,141,187,0.825)",
           "rgba(227,179,137,0.825)",
           "rgba(155,182,201,0.825)",
           "rgba(220,193,170,0.825)",
           "rgba(60,134,185,0.825)",
           "rgba(214,204,194,0.825)",
           "rgba(231,171,117,0.825)",
           "rgba(233,168,111,0.825)",
           "rgba(189,199,207,0.825)",
           "rgba(231,171,117,0.825)",
           "rgba(180,195,205,0.825)",
           "rgba(67,137,186,0.825)",
           "rgba(219,194,171,0.825)",
           "rgba(235,163,100,0.825)",
           "rgba(31,119,180,0.825)",
           "rgba(207,209,210,0.825)",
           "rgba(247,142,49,0.825)",
           "rgba(250,134,32,0.825)",
           "rgba(245,145,57,0.825)",
           "rgba(165,187,203,0.825)",
           "rgba(105,157,192,0.825)",
           "rgba(217,198,180,0.825)",
           "rgba(249,137,38,0.825)",
           "rgba(221,190,163,0.825)",
           "rgba(31,119,180,0.825)",
           "rgba(200,205,209,0.825)",
           "rgba(40,124,181,0.825)",
           "rgba(80,144,188,0.825)",
           "rgba(254,128,17,0.825)",
           "rgba(131,170,197,0.825)",
           "rgba(145,177,199,0.825)",
           "rgba(197,204,208,0.825)",
           "rgba(231,171,119,0.825)",
           "rgba(159,184,202,0.825)",
           "rgba(245,145,57,0.825)",
           "rgba(216,200,185,0.825)",
           "rgba(214,203,193,0.825)",
           "rgba(46,126,182,0.825)",
           "rgba(74,141,187,0.825)",
           "rgba(231,171,117,0.825)",
           "rgba(210,210,210,0.825)",
           "rgba(239,156,83,0.825)",
           "rgba(62,134,185,0.825)",
           "rgba(77,142,188,0.825)",
           "rgba(228,177,131,0.825)",
           "rgba(160,185,202,0.825)",
           "rgba(172,191,204,0.825)",
           "rgba(241,152,74,0.825)",
           "rgba(115,162,194,0.825)",
           "rgba(196,203,208,0.825)",
           "rgba(110,159,193,0.825)",
           "rgba(200,205,209,0.825)",
           "rgba(255,127,14,0.825)",
           "rgba(226,181,140,0.825)",
           "rgba(253,129,20,0.825)",
           "rgba(56,131,184,0.825)",
           "rgba(74,141,187,0.825)",
           "rgba(91,150,190,0.825)",
           "rgba(228,178,134,0.825)",
           "rgba(250,136,35,0.825)",
           "rgba(74,141,187,0.825)",
           "rgba(49,128,183,0.825)",
           "rgba(247,140,46,0.825)",
           "rgba(212,208,205,0.825)",
           "rgba(249,138,40,0.825)",
           "rgba(117,163,194,0.825)",
           "rgba(114,161,194,0.825)",
           "rgba(243,148,63,0.825)",
           "rgba(213,206,200,0.825)",
           "rgba(193,201,207,0.825)",
           "rgba(231,171,117,0.825)",
           "rgba(76,142,187,0.825)",
           "rgba(217,198,180,0.825)",
           "rgba(236,162,97,0.825)",
           "rgba(196,203,208,0.825)",
           "rgba(128,168,196,0.825)",
           "rgba(237,160,92,0.825)",
           "rgba(227,179,136,0.825)"
          ],
          "source": [
           0,
           1,
           2,
           2,
           1,
           3,
           3,
           3,
           1,
           4,
           5,
           1,
           4,
           5,
           6,
           7,
           6,
           7,
           8,
           9,
           9,
           4,
           1,
           6,
           4,
           7,
           6,
           7,
           10,
           10,
           11,
           4,
           12,
           12,
           13,
           14,
           14,
           14,
           14,
           14,
           14,
           15,
           16,
           17,
           2,
           15,
           16,
           17,
           5,
           0,
           16,
           4,
           6,
           10,
           7,
           4,
           4,
           8,
           18,
           3,
           19,
           9,
           19,
           9,
           19,
           4,
           17,
           10,
           2,
           2,
           0,
           8,
           5,
           5,
           8,
           17,
           20,
           20,
           21,
           6,
           10,
           4,
           17,
           0,
           4,
           1,
           0,
           1,
           1,
           16,
           6,
           13,
           15,
           13,
           15,
           6,
           10,
           7,
           3,
           3,
           2,
           22,
           4,
           3,
           17,
           12,
           22,
           20,
           23,
           20,
           20,
           20,
           19,
           8,
           8,
           18,
           17,
           24,
           12,
           12,
           24,
           23,
           12,
           24,
           25,
           18,
           12,
           23,
           12,
           5,
           18,
           24,
           18,
           18,
           5,
           12,
           20,
           2,
           20,
           12,
           12,
           11,
           20,
           26,
           23,
           23,
           13,
           13,
           12,
           20
          ],
          "target": [
           27,
           27,
           27,
           28,
           28,
           1,
           4,
           5,
           29,
           29,
           29,
           30,
           30,
           30,
           27,
           27,
           31,
           31,
           9,
           32,
           29,
           32,
           32,
           33,
           33,
           33,
           29,
           29,
           28,
           31,
           4,
           27,
           13,
           2,
           27,
           2,
           1,
           15,
           16,
           17,
           4,
           27,
           27,
           27,
           30,
           30,
           30,
           30,
           34,
           32,
           34,
           34,
           32,
           32,
           32,
           31,
           28,
           6,
           6,
           19,
           28,
           31,
           31,
           35,
           35,
           35,
           29,
           27,
           32,
           33,
           28,
           4,
           32,
           27,
           17,
           34,
           13,
           21,
           27,
           36,
           36,
           36,
           32,
           37,
           37,
           37,
           31,
           31,
           33,
           31,
           28,
           28,
           28,
           29,
           29,
           37,
           37,
           37,
           2,
           22,
           36,
           36,
           38,
           17,
           28,
           22,
           33,
           15,
           15,
           1,
           6,
           19,
           32,
           19,
           0,
           17,
           31,
           31,
           6,
           1,
           32,
           24,
           24,
           27,
           31,
           4,
           7,
           17,
           5,
           31,
           0,
           28,
           1,
           5,
           28,
           17,
           17,
           31,
           7,
           25,
           16,
           5,
           26,
           31,
           7,
           13,
           32,
           34,
           10,
           24
          ],
          "value": [
           4,
           10,
           6,
           4,
           21,
           1,
           2,
           3,
           2,
           4,
           4,
           4,
           4,
           9,
           11,
           7,
           11,
           15,
           2,
           2,
           1,
           2,
           7,
           2,
           1,
           1,
           2,
           2,
           4,
           2,
           2,
           8,
           2,
           1,
           7,
           1,
           1,
           1,
           1,
           4,
           1,
           1,
           3,
           10,
           1,
           1,
           1,
           6,
           3,
           1,
           1,
           3,
           5,
           3,
           4,
           9,
           10,
           4,
           2,
           1,
           3,
           4,
           4,
           1,
           1,
           1,
           2,
           3,
           2,
           1,
           10,
           2,
           3,
           3,
           5,
           5,
           2,
           1,
           3,
           1,
           1,
           2,
           8,
           2,
           3,
           2,
           3,
           9,
           4,
           5,
           7,
           1,
           5,
           3,
           3,
           2,
           1,
           4,
           1,
           1,
           1,
           1,
           1,
           1,
           4,
           1,
           2,
           1,
           1,
           7,
           1,
           1,
           1,
           2,
           2,
           13,
           29,
           12,
           3,
           3,
           3,
           2,
           2,
           4,
           4,
           1,
           5,
           2,
           5,
           5,
           1,
           1,
           1,
           2,
           1,
           3,
           8,
           1,
           6,
           1,
           1,
           1,
           1,
           2,
           1,
           1,
           2,
           1,
           1,
           1
          ]
         },
         "node": {
          "color": [
           "rgba(128,128,128,0.75)",
           "rgba(128,128,128,0.75)",
           "rgba(128,128,128,0.75)",
           "rgba(128,128,128,0.75)",
           "rgba(128,128,128,0.75)",
           "rgba(128,128,128,0.75)",
           "rgba(128,128,128,0.75)",
           "rgba(128,128,128,0.75)",
           "rgba(128,128,128,0.75)",
           "rgba(128,128,128,0.75)",
           "rgba(128,128,128,0.75)",
           "rgba(128,128,128,0.75)",
           "rgba(128,128,128,0.75)",
           "rgba(128,128,128,0.75)",
           "rgba(128,128,128,0.75)",
           "rgba(128,128,128,0.75)",
           "rgba(128,128,128,0.75)",
           "rgba(128,128,128,0.75)",
           "rgba(128,128,128,0.75)",
           "rgba(128,128,128,0.75)",
           "rgba(128,128,128,0.75)",
           "rgba(128,128,128,0.75)",
           "rgba(128,128,128,0.75)",
           "rgba(128,128,128,0.75)",
           "rgba(128,128,128,0.75)",
           "rgba(128,128,128,0.75)",
           "rgba(128,128,128,0.75)",
           "rgba(128,128,128,0.75)",
           "rgba(128,128,128,0.75)",
           "rgba(128,128,128,0.75)",
           "rgba(128,128,128,0.75)",
           "rgba(128,128,128,0.75)",
           "rgba(128,128,128,0.75)",
           "rgba(128,128,128,0.75)",
           "rgba(128,128,128,0.75)",
           "rgba(128,128,128,0.75)",
           "rgba(128,128,128,0.75)",
           "rgba(128,128,128,0.75)",
           "rgba(128,128,128,0.75)"
          ],
          "label": [
           "public health",
           "environmental conditions",
           "quality of life",
           "social sciences",
           "equity",
           "gas emissions",
           "resilience",
           "emergency response",
           "urban systems",
           "public safety",
           "climate change",
           "behavioral sciences",
           "mechanism",
           "energy consumption",
           "control theory",
           "digital divide",
           "quality of services",
           "traffic management",
           "human mobility",
           "information security",
           "complexity sciences",
           "demand response",
           "covid-19 pandemic",
           "urban morphology",
           "sustainable development",
           "policy making",
           "rapid urbanization",
           "machine learning",
           "internet of things",
           "cloud computing",
           "reinforcement learning",
           "big data",
           "deep learning",
           "wireless communication",
           "self-driving",
           "unmanned aerial vehicle",
           "virtual reality",
           "digital twin",
           "explainable artificial intelligence"
          ],
          "line": {
           "color": "black",
           "width": 0
          },
          "pad": 15,
          "thickness": 30
         },
         "type": "sankey"
        }
       ],
       "layout": {
        "annotations": [
         {
          "font": {
           "color": "black",
           "size": 45
          },
          "showarrow": false,
          "text": "Urban Science",
          "x": 0.025,
          "xref": "paper",
          "y": 1.0475,
          "yref": "paper"
         },
         {
          "font": {
           "color": "black",
           "size": 45
          },
          "showarrow": false,
          "text": "Real-World Problems",
          "x": 0.5,
          "xref": "paper",
          "y": 1.0475,
          "yref": "paper"
         },
         {
          "font": {
           "color": "black",
           "size": 45
          },
          "showarrow": false,
          "text": "Urban Technology",
          "x": 0.975,
          "xref": "paper",
          "y": 1.0475,
          "yref": "paper"
         }
        ],
        "font": {
         "color": "black",
         "family": "Times New Roman",
         "size": 36
        },
        "height": 2000,
        "paper_bgcolor": "rgba(0,0,0,0)",
        "plot_bgcolor": "rgba(0,0,0,0)",
        "template": {
         "data": {
          "bar": [
           {
            "error_x": {
             "color": "#2a3f5f"
            },
            "error_y": {
             "color": "#2a3f5f"
            },
            "marker": {
             "line": {
              "color": "#E5ECF6",
              "width": 0.5
             },
             "pattern": {
              "fillmode": "overlay",
              "size": 10,
              "solidity": 0.2
             }
            },
            "type": "bar"
           }
          ],
          "barpolar": [
           {
            "marker": {
             "line": {
              "color": "#E5ECF6",
              "width": 0.5
             },
             "pattern": {
              "fillmode": "overlay",
              "size": 10,
              "solidity": 0.2
             }
            },
            "type": "barpolar"
           }
          ],
          "carpet": [
           {
            "aaxis": {
             "endlinecolor": "#2a3f5f",
             "gridcolor": "white",
             "linecolor": "white",
             "minorgridcolor": "white",
             "startlinecolor": "#2a3f5f"
            },
            "baxis": {
             "endlinecolor": "#2a3f5f",
             "gridcolor": "white",
             "linecolor": "white",
             "minorgridcolor": "white",
             "startlinecolor": "#2a3f5f"
            },
            "type": "carpet"
           }
          ],
          "choropleth": [
           {
            "colorbar": {
             "outlinewidth": 0,
             "ticks": ""
            },
            "type": "choropleth"
           }
          ],
          "contour": [
           {
            "colorbar": {
             "outlinewidth": 0,
             "ticks": ""
            },
            "colorscale": [
             [
              0,
              "#0d0887"
             ],
             [
              0.1111111111111111,
              "#46039f"
             ],
             [
              0.2222222222222222,
              "#7201a8"
             ],
             [
              0.3333333333333333,
              "#9c179e"
             ],
             [
              0.4444444444444444,
              "#bd3786"
             ],
             [
              0.5555555555555556,
              "#d8576b"
             ],
             [
              0.6666666666666666,
              "#ed7953"
             ],
             [
              0.7777777777777778,
              "#fb9f3a"
             ],
             [
              0.8888888888888888,
              "#fdca26"
             ],
             [
              1,
              "#f0f921"
             ]
            ],
            "type": "contour"
           }
          ],
          "contourcarpet": [
           {
            "colorbar": {
             "outlinewidth": 0,
             "ticks": ""
            },
            "type": "contourcarpet"
           }
          ],
          "heatmap": [
           {
            "colorbar": {
             "outlinewidth": 0,
             "ticks": ""
            },
            "colorscale": [
             [
              0,
              "#0d0887"
             ],
             [
              0.1111111111111111,
              "#46039f"
             ],
             [
              0.2222222222222222,
              "#7201a8"
             ],
             [
              0.3333333333333333,
              "#9c179e"
             ],
             [
              0.4444444444444444,
              "#bd3786"
             ],
             [
              0.5555555555555556,
              "#d8576b"
             ],
             [
              0.6666666666666666,
              "#ed7953"
             ],
             [
              0.7777777777777778,
              "#fb9f3a"
             ],
             [
              0.8888888888888888,
              "#fdca26"
             ],
             [
              1,
              "#f0f921"
             ]
            ],
            "type": "heatmap"
           }
          ],
          "heatmapgl": [
           {
            "colorbar": {
             "outlinewidth": 0,
             "ticks": ""
            },
            "colorscale": [
             [
              0,
              "#0d0887"
             ],
             [
              0.1111111111111111,
              "#46039f"
             ],
             [
              0.2222222222222222,
              "#7201a8"
             ],
             [
              0.3333333333333333,
              "#9c179e"
             ],
             [
              0.4444444444444444,
              "#bd3786"
             ],
             [
              0.5555555555555556,
              "#d8576b"
             ],
             [
              0.6666666666666666,
              "#ed7953"
             ],
             [
              0.7777777777777778,
              "#fb9f3a"
             ],
             [
              0.8888888888888888,
              "#fdca26"
             ],
             [
              1,
              "#f0f921"
             ]
            ],
            "type": "heatmapgl"
           }
          ],
          "histogram": [
           {
            "marker": {
             "pattern": {
              "fillmode": "overlay",
              "size": 10,
              "solidity": 0.2
             }
            },
            "type": "histogram"
           }
          ],
          "histogram2d": [
           {
            "colorbar": {
             "outlinewidth": 0,
             "ticks": ""
            },
            "colorscale": [
             [
              0,
              "#0d0887"
             ],
             [
              0.1111111111111111,
              "#46039f"
             ],
             [
              0.2222222222222222,
              "#7201a8"
             ],
             [
              0.3333333333333333,
              "#9c179e"
             ],
             [
              0.4444444444444444,
              "#bd3786"
             ],
             [
              0.5555555555555556,
              "#d8576b"
             ],
             [
              0.6666666666666666,
              "#ed7953"
             ],
             [
              0.7777777777777778,
              "#fb9f3a"
             ],
             [
              0.8888888888888888,
              "#fdca26"
             ],
             [
              1,
              "#f0f921"
             ]
            ],
            "type": "histogram2d"
           }
          ],
          "histogram2dcontour": [
           {
            "colorbar": {
             "outlinewidth": 0,
             "ticks": ""
            },
            "colorscale": [
             [
              0,
              "#0d0887"
             ],
             [
              0.1111111111111111,
              "#46039f"
             ],
             [
              0.2222222222222222,
              "#7201a8"
             ],
             [
              0.3333333333333333,
              "#9c179e"
             ],
             [
              0.4444444444444444,
              "#bd3786"
             ],
             [
              0.5555555555555556,
              "#d8576b"
             ],
             [
              0.6666666666666666,
              "#ed7953"
             ],
             [
              0.7777777777777778,
              "#fb9f3a"
             ],
             [
              0.8888888888888888,
              "#fdca26"
             ],
             [
              1,
              "#f0f921"
             ]
            ],
            "type": "histogram2dcontour"
           }
          ],
          "mesh3d": [
           {
            "colorbar": {
             "outlinewidth": 0,
             "ticks": ""
            },
            "type": "mesh3d"
           }
          ],
          "parcoords": [
           {
            "line": {
             "colorbar": {
              "outlinewidth": 0,
              "ticks": ""
             }
            },
            "type": "parcoords"
           }
          ],
          "pie": [
           {
            "automargin": true,
            "type": "pie"
           }
          ],
          "scatter": [
           {
            "fillpattern": {
             "fillmode": "overlay",
             "size": 10,
             "solidity": 0.2
            },
            "type": "scatter"
           }
          ],
          "scatter3d": [
           {
            "line": {
             "colorbar": {
              "outlinewidth": 0,
              "ticks": ""
             }
            },
            "marker": {
             "colorbar": {
              "outlinewidth": 0,
              "ticks": ""
             }
            },
            "type": "scatter3d"
           }
          ],
          "scattercarpet": [
           {
            "marker": {
             "colorbar": {
              "outlinewidth": 0,
              "ticks": ""
             }
            },
            "type": "scattercarpet"
           }
          ],
          "scattergeo": [
           {
            "marker": {
             "colorbar": {
              "outlinewidth": 0,
              "ticks": ""
             }
            },
            "type": "scattergeo"
           }
          ],
          "scattergl": [
           {
            "marker": {
             "colorbar": {
              "outlinewidth": 0,
              "ticks": ""
             }
            },
            "type": "scattergl"
           }
          ],
          "scattermapbox": [
           {
            "marker": {
             "colorbar": {
              "outlinewidth": 0,
              "ticks": ""
             }
            },
            "type": "scattermapbox"
           }
          ],
          "scatterpolar": [
           {
            "marker": {
             "colorbar": {
              "outlinewidth": 0,
              "ticks": ""
             }
            },
            "type": "scatterpolar"
           }
          ],
          "scatterpolargl": [
           {
            "marker": {
             "colorbar": {
              "outlinewidth": 0,
              "ticks": ""
             }
            },
            "type": "scatterpolargl"
           }
          ],
          "scatterternary": [
           {
            "marker": {
             "colorbar": {
              "outlinewidth": 0,
              "ticks": ""
             }
            },
            "type": "scatterternary"
           }
          ],
          "surface": [
           {
            "colorbar": {
             "outlinewidth": 0,
             "ticks": ""
            },
            "colorscale": [
             [
              0,
              "#0d0887"
             ],
             [
              0.1111111111111111,
              "#46039f"
             ],
             [
              0.2222222222222222,
              "#7201a8"
             ],
             [
              0.3333333333333333,
              "#9c179e"
             ],
             [
              0.4444444444444444,
              "#bd3786"
             ],
             [
              0.5555555555555556,
              "#d8576b"
             ],
             [
              0.6666666666666666,
              "#ed7953"
             ],
             [
              0.7777777777777778,
              "#fb9f3a"
             ],
             [
              0.8888888888888888,
              "#fdca26"
             ],
             [
              1,
              "#f0f921"
             ]
            ],
            "type": "surface"
           }
          ],
          "table": [
           {
            "cells": {
             "fill": {
              "color": "#EBF0F8"
             },
             "line": {
              "color": "white"
             }
            },
            "header": {
             "fill": {
              "color": "#C8D4E3"
             },
             "line": {
              "color": "white"
             }
            },
            "type": "table"
           }
          ]
         },
         "layout": {
          "annotationdefaults": {
           "arrowcolor": "#2a3f5f",
           "arrowhead": 0,
           "arrowwidth": 1
          },
          "autotypenumbers": "strict",
          "coloraxis": {
           "colorbar": {
            "outlinewidth": 0,
            "ticks": ""
           }
          },
          "colorscale": {
           "diverging": [
            [
             0,
             "#8e0152"
            ],
            [
             0.1,
             "#c51b7d"
            ],
            [
             0.2,
             "#de77ae"
            ],
            [
             0.3,
             "#f1b6da"
            ],
            [
             0.4,
             "#fde0ef"
            ],
            [
             0.5,
             "#f7f7f7"
            ],
            [
             0.6,
             "#e6f5d0"
            ],
            [
             0.7,
             "#b8e186"
            ],
            [
             0.8,
             "#7fbc41"
            ],
            [
             0.9,
             "#4d9221"
            ],
            [
             1,
             "#276419"
            ]
           ],
           "sequential": [
            [
             0,
             "#0d0887"
            ],
            [
             0.1111111111111111,
             "#46039f"
            ],
            [
             0.2222222222222222,
             "#7201a8"
            ],
            [
             0.3333333333333333,
             "#9c179e"
            ],
            [
             0.4444444444444444,
             "#bd3786"
            ],
            [
             0.5555555555555556,
             "#d8576b"
            ],
            [
             0.6666666666666666,
             "#ed7953"
            ],
            [
             0.7777777777777778,
             "#fb9f3a"
            ],
            [
             0.8888888888888888,
             "#fdca26"
            ],
            [
             1,
             "#f0f921"
            ]
           ],
           "sequentialminus": [
            [
             0,
             "#0d0887"
            ],
            [
             0.1111111111111111,
             "#46039f"
            ],
            [
             0.2222222222222222,
             "#7201a8"
            ],
            [
             0.3333333333333333,
             "#9c179e"
            ],
            [
             0.4444444444444444,
             "#bd3786"
            ],
            [
             0.5555555555555556,
             "#d8576b"
            ],
            [
             0.6666666666666666,
             "#ed7953"
            ],
            [
             0.7777777777777778,
             "#fb9f3a"
            ],
            [
             0.8888888888888888,
             "#fdca26"
            ],
            [
             1,
             "#f0f921"
            ]
           ]
          },
          "colorway": [
           "#636efa",
           "#EF553B",
           "#00cc96",
           "#ab63fa",
           "#FFA15A",
           "#19d3f3",
           "#FF6692",
           "#B6E880",
           "#FF97FF",
           "#FECB52"
          ],
          "font": {
           "color": "#2a3f5f"
          },
          "geo": {
           "bgcolor": "white",
           "lakecolor": "white",
           "landcolor": "#E5ECF6",
           "showlakes": true,
           "showland": true,
           "subunitcolor": "white"
          },
          "hoverlabel": {
           "align": "left"
          },
          "hovermode": "closest",
          "mapbox": {
           "style": "light"
          },
          "paper_bgcolor": "white",
          "plot_bgcolor": "#E5ECF6",
          "polar": {
           "angularaxis": {
            "gridcolor": "white",
            "linecolor": "white",
            "ticks": ""
           },
           "bgcolor": "#E5ECF6",
           "radialaxis": {
            "gridcolor": "white",
            "linecolor": "white",
            "ticks": ""
           }
          },
          "scene": {
           "xaxis": {
            "backgroundcolor": "#E5ECF6",
            "gridcolor": "white",
            "gridwidth": 2,
            "linecolor": "white",
            "showbackground": true,
            "ticks": "",
            "zerolinecolor": "white"
           },
           "yaxis": {
            "backgroundcolor": "#E5ECF6",
            "gridcolor": "white",
            "gridwidth": 2,
            "linecolor": "white",
            "showbackground": true,
            "ticks": "",
            "zerolinecolor": "white"
           },
           "zaxis": {
            "backgroundcolor": "#E5ECF6",
            "gridcolor": "white",
            "gridwidth": 2,
            "linecolor": "white",
            "showbackground": true,
            "ticks": "",
            "zerolinecolor": "white"
           }
          },
          "shapedefaults": {
           "line": {
            "color": "#2a3f5f"
           }
          },
          "ternary": {
           "aaxis": {
            "gridcolor": "white",
            "linecolor": "white",
            "ticks": ""
           },
           "baxis": {
            "gridcolor": "white",
            "linecolor": "white",
            "ticks": ""
           },
           "bgcolor": "#E5ECF6",
           "caxis": {
            "gridcolor": "white",
            "linecolor": "white",
            "ticks": ""
           }
          },
          "title": {
           "x": 0.05
          },
          "xaxis": {
           "automargin": true,
           "gridcolor": "white",
           "linecolor": "white",
           "ticks": "",
           "title": {
            "standoff": 15
           },
           "zerolinecolor": "white",
           "zerolinewidth": 2
          },
          "yaxis": {
           "automargin": true,
           "gridcolor": "white",
           "linecolor": "white",
           "ticks": "",
           "title": {
            "standoff": 15
           },
           "zerolinecolor": "white",
           "zerolinewidth": 2
          }
         }
        },
        "width": 2000
       }
      }
     },
     "metadata": {},
     "output_type": "display_data"
    }
   ],
   "source": [
    "import pandas as pd\n",
    "import matplotlib.colors as mcolors\n",
    "import plotly.graph_objects as go\n",
    "\n",
    "# 1. 路径（自己改）\n",
    "data_path   = './data.xlsx'   # 你的 Excel 路径\n",
    "out_html    = './my_sankey.html'\n",
    "\n",
    "# 2. 读数据\n",
    "df = pd.read_excel(data_path, engine='openpyxl')\n",
    "\n",
    "# 3. 构造节点列表 & 映射\n",
    "all_nodes = list(pd.concat([df['source'], df['target']]).unique())\n",
    "node_map  = {n: i for i, n in enumerate(all_nodes)}\n",
    "\n",
    "\n",
    "# 5. 准备 Sankey 三件套\n",
    "sources = df['source'].map(node_map)\n",
    "targets = df['target'].map(node_map)\n",
    "values  = df['num']\n",
    "\n",
    "# 6. 渐变色边（同模板）\n",
    "C0, mid, C1 = '#ff7f0e', '#d3d3d3', '#1f77b4'\n",
    "cmap = mcolors.LinearSegmentedColormap.from_list('cool', [C0, mid, C1])\n",
    "alpha = 0.825\n",
    "def remove_prefix(keyword):\n",
    "    return keyword[2:] if keyword.startswith(('s_', 'p_', 't_')) else keyword\n",
    "def grad_color(val):\n",
    "    r, g, b, _ = cmap(val)\n",
    "    return f'rgba({int(r*255)},{int(g*255)},{int(b*255)},{alpha})'\n",
    "\n",
    "# 7. 给每条边配一个颜色（这里用随机渐变示例，可改逻辑）\n",
    "import random\n",
    "random.seed(42)\n",
    "link_colors = [grad_color(random.random()) for _ in range(len(df))]\n",
    "\n",
    "# 8. 节点标签 & 颜色\n",
    "node_labels = [remove_prefix(n) for n in all_nodes]\n",
    "node_colors = ['rgba(128,128,128,0.75)'] * len(all_nodes)\n",
    "\n",
    "# 9. 画图\n",
    "fig = go.Figure(go.Sankey(\n",
    "    node=dict(pad=15, thickness=30, line=dict(color='black', width=0),\n",
    "              label=node_labels, color=node_colors),\n",
    "    link=dict(source=sources, target=targets, value=values, color=link_colors)\n",
    "))\n",
    "\n",
    "# 10. 顶部三栏标题（同模板）\n",
    "for text, x in [('Urban Science', 0.025),\n",
    "                ('Real-World Problems', 0.5),\n",
    "                ('Urban Technology', 0.975)]:\n",
    "    fig.add_annotation(text=text, x=x, y=1.0475, xref='paper', yref='paper',\n",
    "                       showarrow=False, font=dict(size=45, color='black'))\n",
    "\n",
    "# 11. 版面\n",
    "fig.update_layout(\n",
    "    font=dict(family='Times New Roman', size=36, color='black'),\n",
    "    width=2000, height=2000,\n",
    "    paper_bgcolor='rgba(0,0,0,0)', plot_bgcolor='rgba(0,0,0,0)'\n",
    ")\n",
    "\n",
    "# 12. 保存 & 展示\n",
    "fig.write_html(out_html)\n",
    "print('已生成', out_html)\n",
    "fig.show()   # 若在无 GUI 环境可注释掉"
   ]
  },
  {
   "cell_type": "markdown",
   "id": "f7542a51",
   "metadata": {},
   "source": [
    "### 1. 按流动A占比划分颜色"
   ]
  },
  {
   "cell_type": "code",
   "execution_count": null,
   "id": "1de8135b",
   "metadata": {},
   "outputs": [],
   "source": [
    "import pandas as pd\n",
    "import numpy as np\n",
    "import matplotlib.pyplot as plt\n",
    "\n",
    "import pickle\n",
    "from collections import defaultdict\n",
    "import matplotlib.colors as mcolors\n",
    "import plotly.graph_objects as go\n",
    "\n",
    "# 1. 路径（自己改）\n",
    "data_path   = './data.xlsx'   # 你的 Excel 路径\n",
    "out_html    = './my_sankey.html'\n",
    "\n",
    "# 2. 读数据\n",
    "df = pd.read_excel(data_path, engine='openpyxl')\n",
    "\n",
    "# 结果字典\n",
    "flow_counts = {}\n",
    "\n",
    "for _, row in df.iterrows():\n",
    "    key = (row[\"source\"], row[\"target\"])\n",
    "    value = {\"NSF\": int(row[\"NSF\"]), \"NSFC\": int(row[\"NSFC\"]),\"num\": int(row[\"num\"])}\n",
    "    flow_counts[key] = value\n",
    "\n",
    "\n",
    "\n",
    "C1 = '#1f77b4' \n",
    "middle_color = \"#d3d3d3\" \n",
    "C0 = '#ff7f0e'\n",
    "\n",
    "#用matplotlib.colors根据三色列表创建线性分段的自定义连续色图（colormap），命名为 \"coolwarm_custom\",之后通过输入 0~1 的数值从该色图中采样对应的 RGBA 颜色。\n",
    "colors = [C0, middle_color, C1]\n",
    "cmap_custom = mcolors.LinearSegmentedColormap.from_list(\"coolwarm_custom\", colors)\n",
    "\n",
    "#利用set函数去重\n",
    "keywords = list(set([kw1 for (kw1, kw2) in flow_counts.keys()] + [kw2 for (kw1, kw2) in flow_counts.keys()]))\n",
    "keyword_index = {kw: idx for idx, kw in enumerate(keywords)}\n",
    "\n",
    "sources = []\n",
    "targets = []\n",
    "values = []\n",
    "colors = []\n",
    "node_flow_counts = defaultdict(lambda: {\"NSF\": 0, \"NSFC\": 0})\n",
    "\n",
    "for (kw1, kw2), count_dict in flow_counts.items():\n",
    "    sources.append(keyword_index[kw1])\n",
    "    targets.append(keyword_index[kw2])\n",
    "    total_count = sum(count_dict.values())\n",
    "    values.append(total_count)\n",
    "\n",
    "    node_flow_counts[kw1][\"NSF\"] += count_dict[\"NSF\"]\n",
    "    node_flow_counts[kw1][\"NSFC\"] += count_dict[\"NSFC\"]\n",
    "    node_flow_counts[kw2][\"NSF\"] += count_dict[\"NSF\"]\n",
    "    node_flow_counts[kw2][\"NSFC\"] += count_dict[\"NSFC\"]\n",
    "\n",
    "cmap=cmap_custom\n",
    "alpha = 0.825\n",
    "\n",
    "def get_gradient_color(val, alpha=alpha):\n",
    "    color = cmap(val) \n",
    "    return (color[0], color[1], color[2], alpha)\n",
    "\n",
    "def remove_prefix(keyword):\n",
    "    return keyword[2:] if keyword.startswith(('s_', 'p_', 't_')) else keyword\n",
    "\n",
    "for (kw1, kw2), count_dict in flow_counts.items():\n",
    "    nsf_count_kw1 = node_flow_counts[kw1][\"NSF\"]\n",
    "    nsfc_count_kw1 = node_flow_counts[kw1][\"NSFC\"]\n",
    "    total_kw1 = nsf_count_kw1 + nsfc_count_kw1\n",
    "    ratio_kw1 = nsf_count_kw1 / total_kw1 if total_kw1 != 0 else 0\n",
    "\n",
    "    nsf_count_kw2 = node_flow_counts[kw2][\"NSF\"]\n",
    "    nsfc_count_kw2 = node_flow_counts[kw2][\"NSFC\"]\n",
    "    total_kw2 = nsf_count_kw2 + nsfc_count_kw2\n",
    "    ratio_kw2 = nsf_count_kw2 / total_kw2 if total_kw2 != 0 else 0\n",
    "\n",
    "    avg_ratio = (ratio_kw1 + ratio_kw2) / 2\n",
    "\n",
    "    color_rgba = get_gradient_color(avg_ratio)\n",
    "    colors.append(f'rgba({color_rgba[0] * 255}, {color_rgba[1] * 255}, {color_rgba[2] * 255}, {color_rgba[3]})')\n",
    "\n",
    "nodes_with_group = []\n",
    "node_colors = []\n",
    "\n",
    "for kw in keywords:\n",
    "    nodes_with_group.append(remove_prefix(kw)) \n",
    "    node_colors.append(\"rgba(128, 128, 128, 0.75)\")\n",
    "\n",
    "\n",
    "\n",
    "fig = go.Figure(go.Sankey(\n",
    "    node=dict(\n",
    "        pad=15,\n",
    "        thickness=30,\n",
    "        line=dict(color=\"black\", width=0),\n",
    "        label=nodes_with_group,\n",
    "        color=node_colors\n",
    "    ),\n",
    "    link=dict(\n",
    "        source=sources,\n",
    "        target=targets,\n",
    "        value=values,\n",
    "        color=colors \n",
    "    )))\n",
    "\n",
    "fig.add_annotation(\n",
    "    text=\"Urban Science\",\n",
    "    xref=\"paper\", yref=\"paper\",\n",
    "    x=0.025, y=1.0475, \n",
    "    showarrow=False,\n",
    "    font=dict(size=45, color=\"black\")\n",
    ")\n",
    "\n",
    "fig.add_annotation(\n",
    "    text=\"Real-World Problems\",\n",
    "    xref=\"paper\", yref=\"paper\",\n",
    "    x=0.5, y=1.0475,\n",
    "    showarrow=False,\n",
    "    font=dict(size=45, color=\"black\")\n",
    ")\n",
    "\n",
    "fig.add_annotation(\n",
    "    text=\"Urban Technology\",\n",
    "    xref=\"paper\", yref=\"paper\",\n",
    "    x=0.975, y=1.0475, \n",
    "    showarrow=False,\n",
    "    font=dict(size=45, color=\"black\")\n",
    ")\n",
    "\n",
    "fig.update_layout(\n",
    "    xaxis=dict(showticklabels=False),\n",
    "    yaxis=dict(showticklabels=False),\n",
    "    font=dict(family=\"Times New Roman\", size=36, color=\"black\"),\n",
    "    width=2000,\n",
    "    height=2000,\n",
    "    paper_bgcolor='rgba(0,0,0,0)',\n",
    "    plot_bgcolor='rgba(0,0,0,0)'\n",
    ")\n",
    "\n",
    "fig.write_html(out_html)"
   ]
  }
 ],
 "metadata": {
  "kernelspec": {
   "display_name": "base",
   "language": "python",
   "name": "python3"
  },
  "language_info": {
   "codemirror_mode": {
    "name": "ipython",
    "version": 3
   },
   "file_extension": ".py",
   "mimetype": "text/x-python",
   "name": "python",
   "nbconvert_exporter": "python",
   "pygments_lexer": "ipython3",
   "version": "3.13.5"
  }
 },
 "nbformat": 4,
 "nbformat_minor": 5
}
